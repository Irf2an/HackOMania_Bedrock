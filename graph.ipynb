{
 "cells": [
  {
   "cell_type": "markdown",
   "metadata": {},
   "source": [
    "## LangGraph: Multi-Agent Workflow\n",
    "\n",
    "This notebook will focus on the exploration of LangGraph and Agentic Workflow used by this project to achieve its image recognition and recipe creation."
   ]
  },
  {
   "cell_type": "code",
   "execution_count": 1,
   "metadata": {},
   "outputs": [],
   "source": [
    "# Important Library\n",
    "from langchain_openai import ChatOpenAI\n",
    "import os\n",
    "from dotenv import load_dotenv\n",
    "import base64\n",
    "from langgraph.graph import StateGraph, END\n",
    "from langchain.prompts import ChatPromptTemplate\n",
    "from langchain.schema.runnable import RunnableLambda\n",
    "from typing_extensions import TypedDict "
   ]
  },
  {
   "cell_type": "code",
   "execution_count": 4,
   "metadata": {},
   "outputs": [],
   "source": [
    "#  Load environment variables\n",
    "load_dotenv()\n",
    "\n",
    "#  Get the OpenAI API key\n",
    "api_key = os.getenv(\"OPENAI_API_KEY\")"
   ]
  },
  {
   "cell_type": "code",
   "execution_count": 5,
   "metadata": {},
   "outputs": [],
   "source": [
    "#  Initialize GPT-4 Turbo\n",
    "llm = ChatOpenAI(model_name=\"gpt-4-turbo\", temperature=0.3, openai_api_key=api_key)\n"
   ]
  },
  {
   "cell_type": "code",
   "execution_count": 6,
   "metadata": {},
   "outputs": [],
   "source": [
    "#  Define states\n",
    "class OverallIngredientState(TypedDict):\n",
    "    image_path: str\n",
    "    ingredients: list\n",
    "    filtered_ingredients: list\n",
    "    preferences: list\n",
    "    recipe_text: str\n",
    "    \n",
    "class OverallRecipeState(TypedDict):\n",
    "    ingredients: list\n",
    "    preferences: list\n",
    "    recipe_text: str"
   ]
  },
  {
   "cell_type": "code",
   "execution_count": 7,
   "metadata": {},
   "outputs": [],
   "source": [
    "#  Encode image\n",
    "def encode_image(image_path):\n",
    "    with open(image_path, \"rb\") as image_file:\n",
    "        return base64.b64encode(image_file.read()).decode(\"utf-8\")\n",
    "\n",
    "#  Recognize ingredients\n",
    "def recognise_ingredients(state: OverallIngredientState):\n",
    "    encoded_image = encode_image(state['image_path'])\n",
    "    messages = [\n",
    "        {\"role\": \"system\", \"content\": \"You are a food expert who identifies ingredients.\"},\n",
    "        {\"role\": \"user\", \"content\": [\n",
    "            {\"type\": \"text\", \"text\": \"Analyze this image and list ingredients. Please be specific for each ingredients. Ensure there is no repeated items.\"},\n",
    "            {\"type\": \"image_url\", \"image_url\": {\"url\": f\"data:image/jpeg;base64,{encoded_image}\"}}\n",
    "        ]}\n",
    "    ]\n",
    "    response = llm.invoke(messages)\n",
    "    ingredients = response.content.split(\",\") if response.content else []\n",
    "    return {\"ingredients\": [ingredient.strip() for ingredient in ingredients]}\n",
    "\n",
    "#  Filter ingredients\n",
    "def filter_ingredients(state: OverallIngredientState):\n",
    "    if not state['ingredients']:\n",
    "        return {\"filtered_ingredients\": []}\n",
    "    \n",
    "    prompt = ChatPromptTemplate.from_messages([\n",
    "        (\"system\", \"You are a food expert who can identify ingredients from a list. You answer only in singular form such as orange instead of oranges.\"),\n",
    "        (\"user\", \"Here's the list: {ingredients}. Return only valid ingredients. Provide only a comma-separated list of ingredients in their singular form (in other words orange instead of oranges).\")\n",
    "    ])\n",
    "    chain = prompt | llm\n",
    "    ingredients_str = chain.invoke({\"ingredients\": \", \".join(state['ingredients'])}).content\n",
    "    return {\"filtered_ingredients\": ingredients_str.split(\",\") if \"None\" not in ingredients_str else []}"
   ]
  },
  {
   "cell_type": "code",
   "execution_count": 8,
   "metadata": {},
   "outputs": [],
   "source": [
    "#  Create graphs\n",
    "ingredient_graph = StateGraph(OverallIngredientState)\n",
    "ingredient_graph.add_node(\"recognise_ingredients\", RunnableLambda(recognise_ingredients))\n",
    "ingredient_graph.add_node(\"filter_ingredients\", RunnableLambda(filter_ingredients))\n",
    "ingredient_graph.add_edge(\"recognise_ingredients\", \"filter_ingredients\")\n",
    "ingredient_graph.add_edge(\"filter_ingredients\", END)\n",
    "ingredient_graph.set_entry_point(\"recognise_ingredients\")\n",
    "compiled_ingredient_graph = ingredient_graph.compile()"
   ]
  },
  {
   "cell_type": "code",
   "execution_count": 10,
   "metadata": {},
   "outputs": [
    {
     "data": {
      "image/png": "[encoded data removed]",
      "text/plain": [
       "<IPython.core.display.Image object>"
      ]
     },
     "metadata": {},
     "output_type": "display_data"
    }
   ],
   "source": [
    "from IPython.display import Image, display \n",
    "\n",
    "display(Image(compiled_ingredient_graph.get_graph().draw_mermaid_png()))"
   ]
  },
  {
   "cell_type": "code",
   "execution_count": 11,
   "metadata": {},
   "outputs": [],
   "source": [
    "# Filter recipes based on user preferences\n",
    "def filter_recipe(state: OverallRecipeState):\n",
    "    if not state['recipe_text']:\n",
    "        return {\"filtered_recipes\": {}}\n",
    "    \n",
    "    messages = [\n",
    "        {\"role\": \"system\", \"content\": \"You are a food expert ensuring that recipes is detailed and match user preferences.\"},\n",
    "        {\"role\": \"user\", \"content\": f\"\"\"\n",
    "            You have received the following recipes:\n",
    "            {state['recipe_text']}\n",
    "            \n",
    "            The user has the following preferences:\n",
    "            - Dietary Preference: {state['preferences']['Dietary Preference']}\n",
    "            - Recipe Style: {state['preferences']['Recipe Style']}\n",
    "            - Seasoning Preference: {state['preferences']['Seasoning Preference']}\n",
    "            - Cooking Time: {state['preferences']['Cooking Time']}\n",
    "            - Difficulty Level: {state['preferences']['Difficulty Level']}\n",
    "            \n",
    "            Review each recipe paying close attention with the ingredients list and the user preferences.\n",
    "            If any recipes contain non-compliant ingredients or do not match with the user preferences, remove them.\n",
    "            If you think that there is any missing steps in the recipe, add them to make it more detailed.\n",
    "            \n",
    "            Format the response as a JSON object containing only the recipes that pass:\n",
    "            {{\n",
    "                \"recipe 1\": {{\n",
    "                    \"Dish Name\": \"[Dish Name]\",\n",
    "                    \"Ingredients\": [\"ingredient1\", \"ingredient2\", \"ingredient3\"],\n",
    "                    \"Instructions\": [\n",
    "                        \"Step 1: ...\",\n",
    "                        \"Step 2: ...\",\n",
    "                        \"Step 3: ...\"\n",
    "                    ]\n",
    "                }},\n",
    "                \"recipe 2\": {{ ... }},\n",
    "                \"recipe 3\": {{ ... }}\n",
    "            }}\n",
    "            \n",
    "            If no recipes match, return an empty JSON object: `{{}}`\n",
    "        \"\"\"}\n",
    "    ]\n",
    "\n",
    "    response = llm.invoke(messages)\n",
    "    filtered_recipes = response.content if hasattr(response, \"content\") else \"{}\"\n",
    "\n",
    "#  Generate recipe\n",
    "def get_recipes(state: OverallRecipeState):\n",
    "    messages = [\n",
    "        {\"role\": \"system\", \"content\": \"You are a professional chef who suggests multiple recipes based on available ingredients.\"},\n",
    "        {\"role\": \"user\", \"content\": f\"\"\"\n",
    "            I have the following ingredients available: {', '.join(state['ingredients'])}.\n",
    "            I have a dietary preference of {state['preferences']['Dietary Preference']}.\n",
    "            I prefer {state['preferences']['Recipe Style']} cooking style with {state['preferences']['Seasoning Preference']} level of seasoning/spices.\n",
    "            I would like the cooking time to be around {state['preferences']['Cooking Time']}.\n",
    "            I would like the cooking difficulty to be {state['preferences']['Difficulty Level']}.\n",
    "            \n",
    "            Suggest **three different dishes** I can cook using some of these ingredients.\n",
    "            - Each recipe should use **a reasonable selection of the provided ingredients**, but does not need to include every single one.\n",
    "            - Ensure that each recipe makes sense and is practical to cook.\n",
    "            - Include the required ingredient amount for one serving.\n",
    "            - If an important ingredient is missing, feel free to mention it as an optional ingredient.\n",
    "\n",
    "            Format the response strictly as a JSON dictionary like this:\n",
    "            {{\n",
    "                \"recipe 1\": {{\n",
    "                    \"Dish Name\": \"[Dish Name]\",\n",
    "                    \"Ingredients\": [\"ingredient1\", \"ingredient2\", \"ingredient3\"],  # Do not use all ingredients, just relevant ones\n",
    "                    \"Instructions\": [\n",
    "                        \"Step 1: ...\",\n",
    "                        \"Step 2: ...\",\n",
    "                        \"Step 3: ...\"\n",
    "                    ]\n",
    "                }},\n",
    "                \"recipe 2\": {{\n",
    "                    \"Dish Name\": \"[Dish Name]\",\n",
    "                    \"Ingredients\": [\"ingredient1\", \"ingredient2\", \"ingredient3\"],  # Select only essential ingredients\n",
    "                    \"Instructions\": [\n",
    "                        \"Step 1: ...\",\n",
    "                        \"Step 2: ...\",\n",
    "                        \"Step 3: ...\"\n",
    "                    ]\n",
    "                }},\n",
    "                \"recipe 3\": {{\n",
    "                    \"Dish Name\": \"[Dish Name]\",\n",
    "                    \"Ingredients\": [\"ingredient1\", \"ingredient2\", \"ingredient3\"],  # Allow variation\n",
    "                    \"Instructions\": [\n",
    "                        \"Step 1: ...\",\n",
    "                        \"Step 2: ...\",\n",
    "                        \"Step 3: ...\"\n",
    "                    ]\n",
    "                }}\n",
    "            }}\n",
    "\n",
    "            - Ensure the response is a valid JSON object with **no additional explanations**.\n",
    "            \"\"\"}\n",
    "    ]\n",
    "\n",
    "    response = llm.invoke(messages)\n",
    "    print(messages)\n",
    "    return {\"recipe_text\": response.content}"
   ]
  },
  {
   "cell_type": "code",
   "execution_count": 14,
   "metadata": {},
   "outputs": [],
   "source": [
    "recipe_graph = StateGraph(OverallRecipeState)\n",
    "recipe_graph.add_node(\"generate_recipes\", RunnableLambda(get_recipes))\n",
    "recipe_graph.add_node(\"filter_recipes\", RunnableLambda(filter_recipe))  #  New node\n",
    "recipe_graph.add_edge(\"generate_recipes\", \"filter_recipes\")  #  Filter after generating\n",
    "recipe_graph.add_edge(\"filter_recipes\", END)\n",
    "recipe_graph.set_entry_point(\"generate_recipes\")\n",
    "compiled_recipe_graph = recipe_graph.compile()"
   ]
  },
  {
   "cell_type": "code",
   "execution_count": 15,
   "metadata": {},
   "outputs": [
    {
     "data": {
      "image/png": "[encoded data removed]",
      "text/plain": [
       "<IPython.core.display.Image object>"
      ]
     },
     "metadata": {},
     "output_type": "display_data"
    }
   ],
   "source": [
    "display(Image(compiled_recipe_graph.get_graph().draw_mermaid_png()))"
   ]
  }
 ],
 "metadata": {
  "kernelspec": {
   "display_name": "hackomania-env",
   "language": "python",
   "name": "python3"
  },
  "language_info": {
   "codemirror_mode": {
    "name": "ipython",
    "version": 3
   },
   "file_extension": ".py",
   "mimetype": "text/x-python",
   "name": "python",
   "nbconvert_exporter": "python",
   "pygments_lexer": "ipython3",
   "version": "3.12.6"
  }
 },
 "nbformat": 4,
 "nbformat_minor": 2
}
